{
 "cells": [
  {
   "cell_type": "code",
   "execution_count": 7,
   "id": "d576654d",
   "metadata": {},
   "outputs": [],
   "source": [
    "import pandas as pd\n",
    "import psycopg2"
   ]
  },
  {
   "cell_type": "code",
   "execution_count": 10,
   "id": "88e4d2ff",
   "metadata": {},
   "outputs": [],
   "source": [
    "conn = psycopg2.connect(host=\"HOST\",\n",
    "                        database=\"conglomerate\", \n",
    "                        user=\"USER\", \n",
    "                        password=\"PASS\")\n",
    "\n",
    "\n",
    "sql = \"\"\"\n",
    "select ct.*, f.value as \"2014\", f.geoid, co.stasd, co.stusps, co.name from crosstab(\n",
    "        'select distinct on (gid, year) gid, year, value\n",
    "        from cdl_fields_all_crops_history\n",
    "        order by gid asc, year asc, pixel_count desc nulls last, value asc'\n",
    "    ) as ct (\"gid\" int, \"2012\" int, \"2013\" int, \"2014\" int, \"2015\" int, \"2016\" int, \"2017\" int, \"2018\" int, \"2019\" int, \"2020\" int, \"2021\" int)\n",
    "    join cdl_fields_all_crops f on (f.gid = ct.gid) join conus_counties co on (co.geoid = f.geoid)\n",
    "    where f.calcacres >= 10 and f.pa_ratio <= 100\n",
    "    \"\"\"\n"
   ]
  },
  {
   "cell_type": "code",
   "execution_count": 11,
   "id": "c6abd80f",
   "metadata": {},
   "outputs": [],
   "source": [
    "df = pd.read_sql(sql, conn)"
   ]
  },
  {
   "cell_type": "code",
   "execution_count": 13,
   "id": "544577b0",
   "metadata": {},
   "outputs": [],
   "source": [
    "df.to_csv(\"2011_2021_CDL.csv\")"
   ]
  }
 ],
 "metadata": {
  "kernelspec": {
   "display_name": "FCRBM",
   "language": "python",
   "name": "fcrbm"
  },
  "language_info": {
   "codemirror_mode": {
    "name": "ipython",
    "version": 3
   },
   "file_extension": ".py",
   "mimetype": "text/x-python",
   "name": "python",
   "nbconvert_exporter": "python",
   "pygments_lexer": "ipython3",
   "version": "3.9.6"
  }
 },
 "nbformat": 4,
 "nbformat_minor": 5
}
