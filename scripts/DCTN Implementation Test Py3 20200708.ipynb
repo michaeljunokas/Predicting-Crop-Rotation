{
 "cells": [
  {
   "cell_type": "code",
   "execution_count": 5,
   "metadata": {},
   "outputs": [],
   "source": [
    "# The purpose of this notebook is to test the output model of the \"Train\"\n",
    "# notebook\n",
    "\n",
    "import numpy as np\n",
    "import pandas as pd\n",
    "\n",
    "from keras.models import load_model"
   ]
  },
  {
   "cell_type": "code",
   "execution_count": null,
   "metadata": {},
   "outputs": [],
   "source": [
    "# Load model and import CDL dataset.\n",
    "\n",
    "# Change to the exported model name\n",
    "model = load_model('model.h5')\n",
    "df = pd.read_csv('2008_2018_CDL.csv')"
   ]
  },
  {
   "cell_type": "code",
   "execution_count": 7,
   "metadata": {},
   "outputs": [],
   "source": [
    "# Preprocess data in the same way the training was done; remove the observations with ignored classes \n",
    "# 81 is the CDL code for 'Clouds/No Data' and 196 is not classified by the CDL (error?)\n",
    "\n",
    "ignore_classes = range(81, 196)\n",
    "dfClean = df.loc[~(df['2008'].isin(ignore_classes)) & \n",
    "            ~(df['2009'].isin(ignore_classes)) & \n",
    "            ~(df['2010'].isin(ignore_classes)) & \n",
    "            ~(df['2011'].isin(ignore_classes)) & \n",
    "            ~(df['2012'].isin(ignore_classes)) & \n",
    "            ~(df['2013'].isin(ignore_classes)) & \n",
    "            ~(df['2014'].isin(ignore_classes)) &\n",
    "            ~(df['2015'].isin(ignore_classes)) &\n",
    "            ~(df['2016'].isin(ignore_classes)) &\n",
    "            ~(df['2017'].isin(ignore_classes)) &\n",
    "            ~(df['2018'].isin(ignore_classes))]\n",
    "\n",
    "\n",
    "# Group all non-supported crops into `fallow` (i.e. `61` designation)\n",
    "# crop codes are : \n",
    "# 11 : Tobacco, 13 : Popcorn, 14 : Mint, 25 : Other Small Grains, 26 : DblCrop WW/Soy,\n",
    "# 27 : Rye, 29 : Millet, 30 : Speltz, 32 : Flaxseed, 33 : Safflower, 35 : Mustard,\n",
    "# 37 : Other Hay/Non Alfalfa, 38 : Camelina, 39 : Buckwheat, 42 : Dry Beans, 44 : Other Crops,\n",
    "# 46 : Sweet Potatoes, 47 : Misc Vegs and Fruits, 48 : Watermelons, 49 : Onions,\n",
    "# 50 : Cucumbers, 51 : Chick Peas, 52 : Lentils, 53 : Peas, 55 : Caneberries, 56 : Hops,\n",
    "# 57 : Herbs, 58 : Clover/Wildflowers, 59 : Sod/Grass Seed, 60 : Swithgrass, \n",
    "# 61 : Fallow/Idle Cropland, 63 : Forest, 64 : Shrubland, 65 : Barren, 66 Cherries, \n",
    "# 67 : Peaches, 68 : Apples, 69 : Grapes, 70 : Christmas Trees, 71 : Other Tree Crops,\n",
    "# 72 : Citrus, 74 : Pecans, 75 : Almonds, 76 : Walnuts, 77 : Pears, 81 : Clouds/No Data,\\\n",
    "# 82 : Developed, 83 : Water, 87 : Wetlands, 88 : Nonag/Undefined, 92 : Aquaculture,\n",
    "# 111 : Open Water, 112 : Perennial Ice/Snow, 121 : Developed/Open Space,\n",
    "# 122 : Developed/Low Intensity, 123 : Developed/Med Intensity, 124 : Developed/High Intensity,\n",
    "# 131 : Barren, 141 : Deciduous Forest, 142 : Evergreen Forest, 143 : Mixed Forest,\n",
    "# 152 : Shrubland, 176 : Grassland/Pasture, 190 : Woody Wetlands, 195 : Herbaceous Wetlands,\n",
    "# 204 : Pistacios, 205 : Triticale, 206 : Carrots, 207 : Asparagus, 208 : Garlic,\n",
    "# 209 : Canteloups, 210 : Prunes, 211 : Olives, 212 : Oranges, 213 : Honeydew Melons,\n",
    "# 214 : Broccoli, 216 : Peppers, 217 : Pomegranates, 218 : Nectarines, 219 : Greens,\n",
    "# 220 : Plums, 221 :  Strawberries, 222 : Squash, 223 : Apricots, 224 : Vetch,\n",
    "# 225 : Dbl Crop WW/Corn, 226 : Dbl Cropo Oats/Corn, 227 : Lettuce, 229 : Pumpkins,\n",
    "# 230 : Dbl Crop Lettuce/Durum Wht, 231 : Dbl Crop Lettuce/Cantaloupe, \n",
    "# 232 : Dbl Crop Lettuce/Cotton, 233 : Dbl Crop Lettuce/Barley, 234 : Dbl Crop Durum Wht/Sorghum,\n",
    "# 235 : Dbl Crop Barley/Sorghum, 236 : Dbl Crop WinWht/Sorghum, 237 : Dbl Crop Barley/Corn,\n",
    "# 238 : Dbl Crop WinWht/Cotton, 239 : Dbl Crop Soybeans/Cotton, 240 : Dbl Crop Soybeans/Oats,\n",
    "# 241 : Dbl Crop Corn/Soybeans, 242 : Blueberries, 243 : Cabbage, 244 : Cauliflower, 245 : Celery,\n",
    "# 246 : Radishes, 247 : Turnips, 248 : Eggplants, 249 : Gourds, 250 : Cranberries, 254 : Dbl Crop Barley/Soybeans\n",
    "\n",
    "fallowGroup = dfClean.replace([11, 13, 14, 25, 26, 27, 29, 30, 32, 33, 35, 37, 38, 39,\n",
    "                               42, 44, 46, 47, 48, 49, 50, 51, 52, 53, 55, 56, 57, 58,\n",
    "                               59, 60, 61, 63, 64, 65, 66, 67, 68, 69, 70, 71, 72, 74,\n",
    "                               75, 76, 77, 81, 82, 83, 87, 88, 92, 111, 112, 121, 122,\n",
    "                               123, 124, 131, 141, 142, 143, 152, 176, 190, 195, 204,\n",
    "                               205, 206, 207, 208, 209, 210, 211, 212, 213, 214, 215,\n",
    "                               216, 217, 218, 219, 220, 221, 222, 223, 224, 225, 226,\n",
    "                               227, 229, 230, 231, 232, 233, 234, 235, 236, 237, 238,\n",
    "                               239, 240, 241, 242, 243, 244, 245, 246, 247, 248, 249,\n",
    "                               250, 254], 61)"
   ]
  },
  {
   "cell_type": "code",
   "execution_count": 8,
   "metadata": {},
   "outputs": [],
   "source": [
    "# Isolate test set as done with training\n",
    "\n",
    "yearlyCropData = fallowGroup.iloc[:,1:12]\n",
    "labels = pd.concat([yearlyCropData['2017'], yearlyCropData['2018']])\n",
    "dummys = pd.get_dummies(labels)\n",
    "\n",
    "testy = dummys.iloc[yearlyCropData.shape[0]:,:]\n"
   ]
  },
  {
   "cell_type": "code",
   "execution_count": 9,
   "metadata": {},
   "outputs": [
    {
     "name": "stdout",
     "output_type": "stream",
     "text": [
      "2444995/2444995 [==============================] - 49s 20us/step\n",
      "\n",
      "Test score: 0.8398961683865503\n",
      "Test accuracy: 0.7119744621154644\n"
     ]
    }
   ],
   "source": [
    "# Evaluating test set\n",
    "\n",
    "score = model.evaluate(testx.drop('2018', axis = 1), testy, verbose = 1)\n",
    "\n",
    "print(\"\\nTest score:\", score[0])\n",
    "print('Test accuracy:', score[1])"
   ]
  },
  {
   "cell_type": "code",
   "execution_count": 35,
   "metadata": {},
   "outputs": [],
   "source": [
    "# Predicting test instance. Will have to check and replace `fallow` crops.\n",
    "\n",
    "smallTest = testx.iloc[0:3,:-1]\n",
    "classLabels = dummys.columns\n",
    "_prob = model.predict(smallTest)\n",
    "_classes = _prob.argmax(axis = -1)\n",
    "classes = classLabels[_classes]"
   ]
  },
  {
   "cell_type": "code",
   "execution_count": 37,
   "metadata": {},
   "outputs": [],
   "source": [
    "# # Predicting test set. `Fallow` grouping already done above\n",
    "\n",
    "# _prob = model.predict(testx.drop('2018', axis = 1))\n",
    "# _classes = _prob.argmax(axis = -1)\n",
    "# classes = classLabels[_classes]"
   ]
  }
 ],
 "metadata": {
  "kernelspec": {
   "display_name": "Python 3 (ipykernel)",
   "language": "python",
   "name": "python3"
  },
  "language_info": {
   "codemirror_mode": {
    "name": "ipython",
    "version": 3
   },
   "file_extension": ".py",
   "mimetype": "text/x-python",
   "name": "python",
   "nbconvert_exporter": "python",
   "pygments_lexer": "ipython3",
   "version": "3.9.6"
  }
 },
 "nbformat": 4,
 "nbformat_minor": 4
}
